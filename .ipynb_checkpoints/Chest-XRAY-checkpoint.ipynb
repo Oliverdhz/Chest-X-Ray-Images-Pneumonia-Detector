{
 "cells": [
  {
   "cell_type": "code",
   "execution_count": 4,
   "id": "baf2fcdd",
   "metadata": {},
   "outputs": [
    {
     "name": "stdout",
     "output_type": "stream",
     "text": [
      "Epoch [1]: Train Loss: 0.5858\n",
      "Epoch [2]: Train Loss: 0.1981\n",
      "Epoch [3]: Train Loss: 0.1452\n",
      "Accuracy on the test set: 73.40%\n"
     ]
    }
   ],
   "source": [
    "import torch\n",
    "from torchvision import datasets, transforms\n",
    "\n",
    "data_transforms = transforms.Compose([\n",
    "    transforms.Resize(size=(56, 56)),\n",
    "    transforms.ToTensor(),\n",
    "])\n",
    "\n",
    "# Set up the data directory\n",
    "data_dir = './chest_xray/chest_xray/'\n",
    "\n",
    "# Load the datasets\n",
    "train_dataset = datasets.ImageFolder(data_dir+\"train/\", transform=data_transforms)\n",
    "test_dataset = datasets.ImageFolder(data_dir+\"test/\", transform=data_transforms)\n",
    "\n",
    "# Create the data loaders\n",
    "train_loader = torch.utils.data.DataLoader(train_dataset, batch_size=64, shuffle=True)\n",
    "test_loader = torch.utils.data.DataLoader(test_dataset, batch_size=64, shuffle=True)\n",
    "\n",
    "# Create the model and optimizer\n",
    "model = torch.nn.Sequential(\n",
    "    torch.nn.Flatten(),\n",
    "    torch.nn.Linear(3 * 56 * 56, 512),\n",
    "    torch.nn.ReLU(),\n",
    "    torch.nn.Linear(512, 2)\n",
    ")\n",
    "\n",
    "optimizer = torch.optim.Adam(model.parameters(), lr=0.001)\n",
    "\n",
    "# Train the model\n",
    "model.train()\n",
    "for epoch in range(3):\n",
    "    running_loss = 0.0\n",
    "\n",
    "    for inputs, labels in train_loader:\n",
    "        optimizer.zero_grad()\n",
    "        outputs = model(inputs)\n",
    "        loss = torch.nn.functional.cross_entropy(outputs, labels)\n",
    "        loss.backward()\n",
    "        optimizer.step()\n",
    "\n",
    "        running_loss += loss.item()\n",
    " \n",
    "    print(f\"Epoch [{epoch + 1}]: Train Loss: {running_loss / len(train_loader):.4f}\")  \n",
    "\n",
    "# Evaluate the model on the test set\n",
    "correct = 0\n",
    "model.eval()\n",
    "with torch.no_grad():\n",
    "    for images, labels in test_loader:\n",
    "        outputs = model(images)\n",
    "        _, predicted = torch.max(outputs.data, 1)\n",
    "        correct += (predicted == labels).sum().item()\n",
    "\n",
    "print(f\"Accuracy on the test set: {correct / len(test_dataset):.2%}\")"
   ]
  },
  {
   "cell_type": "code",
   "execution_count": null,
   "id": "4ddff505",
   "metadata": {},
   "outputs": [],
   "source": []
  }
 ],
 "metadata": {
  "kernelspec": {
   "display_name": "Python 3 (ipykernel)",
   "language": "python",
   "name": "python3"
  },
  "language_info": {
   "codemirror_mode": {
    "name": "ipython",
    "version": 3
   },
   "file_extension": ".py",
   "mimetype": "text/x-python",
   "name": "python",
   "nbconvert_exporter": "python",
   "pygments_lexer": "ipython3",
   "version": "3.11.2"
  }
 },
 "nbformat": 4,
 "nbformat_minor": 5
}
